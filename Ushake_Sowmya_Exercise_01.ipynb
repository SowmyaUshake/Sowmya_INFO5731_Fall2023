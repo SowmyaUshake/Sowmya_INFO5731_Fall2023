{
  "cells": [
    {
      "cell_type": "markdown",
      "metadata": {
        "id": "view-in-github",
        "colab_type": "text"
      },
      "source": [
        "<a href=\"https://colab.research.google.com/github/SowmyaUshake/Sowmya_INFO5731_Fall2023/blob/main/Ushake_Sowmya_Exercise_01.ipynb\" target=\"_parent\"><img src=\"https://colab.research.google.com/assets/colab-badge.svg\" alt=\"Open In Colab\"/></a>"
      ]
    },
    {
      "cell_type": "markdown",
      "metadata": {
        "id": "DymRJbxDBCnf"
      },
      "source": [
        "# **The first In-class-exercise (08/30/2023, 40 points in total)**\n",
        "This exercise is due tomorrow 08/31/203 11:59 PM.\n"
      ]
    },
    {
      "cell_type": "markdown",
      "source": [
        "(1) Write a Python program to calculate the area of a rectangle using user-input length and width."
      ],
      "metadata": {
        "id": "FBKvD6O_TY6e"
      }
    },
    {
      "cell_type": "code",
      "source": [
        "\n",
        "length = float(input(\"Enter the length of the rectangle: \"))\n",
        "width = float(input(\"Enter the width of the rectangle: \"))\n",
        "\n",
        "# Calculating area\n",
        "area = length * width\n",
        "print(f\"The area of the rectangle is: {area}\")"
      ],
      "metadata": {
        "id": "cikVKDXdTbzE",
        "colab": {
          "base_uri": "https://localhost:8080/"
        },
        "outputId": "83a14e73-6a6f-4f9d-d0e1-21e4e8dc035a"
      },
      "execution_count": 2,
      "outputs": [
        {
          "output_type": "stream",
          "name": "stdout",
          "text": [
            "Enter the length of the rectangle: 20\n",
            "Enter the width of the rectangle: 40\n",
            "The area of the rectangle is: 800.0\n"
          ]
        }
      ]
    },
    {
      "cell_type": "markdown",
      "source": [
        "(2) Create a program that takes two numbers from the user and swaps their values without using a temporary variable."
      ],
      "metadata": {
        "id": "E9RqrlwdTfvl"
      }
    },
    {
      "cell_type": "code",
      "source": [
        "\n",
        "num1 = float(input(\"Enter the first number: \"))\n",
        "num2 = float(input(\"Enter the second number: \"))\n",
        "# Swapping without a temporary variable\n",
        "num1 = num1 + num2\n",
        "num2 = num1 - num2\n",
        "num1 = num1 - num2\n",
        "print(f\"After swapping, the first number is: {num1}\")\n",
        "print(f\"After swapping, the second number is: {num2}\")\n"
      ],
      "metadata": {
        "id": "4XvRknixTh1g",
        "colab": {
          "base_uri": "https://localhost:8080/"
        },
        "outputId": "e5a97a5c-76b5-4a05-f286-e71964cb7d9e"
      },
      "execution_count": 3,
      "outputs": [
        {
          "output_type": "stream",
          "name": "stdout",
          "text": [
            "Enter the first number: 12\n",
            "Enter the second number: 13\n",
            "After swapping, the first number is: 13.0\n",
            "After swapping, the second number is: 12.0\n"
          ]
        }
      ]
    },
    {
      "cell_type": "markdown",
      "metadata": {
        "id": "03jb4GZsBkBS"
      },
      "source": [
        "(3) Write a Python program to calculate the length of a string."
      ]
    },
    {
      "cell_type": "code",
      "execution_count": 4,
      "metadata": {
        "id": "YaGLbSHHB8Ej",
        "colab": {
          "base_uri": "https://localhost:8080/"
        },
        "outputId": "22c5dd57-5f23-46f6-99d1-bbc270dbc124"
      },
      "outputs": [
        {
          "output_type": "stream",
          "name": "stdout",
          "text": [
            "Enter a string: 12,13,14\n",
            "The length of the string is: 8\n"
          ]
        }
      ],
      "source": [
        "\n",
        "input_string = input(\"Enter a string: \")\n",
        "\n",
        "# Calculating length of the string\n",
        "length = len(input_string)\n",
        "print(f\"The length of the string is: {length}\")\n"
      ]
    },
    {
      "cell_type": "markdown",
      "metadata": {
        "id": "jJDe71iLB616"
      },
      "source": [
        "(4) Write a Python program to count the number of characters in a string.\n",
        "\n",
        "Sample String : 'google.com‘,\n",
        "\n",
        "Expected Result : {'o': 3, 'g': 2, '.': 1, 'e': 1, 'l': 1, 'm': 1, 'c': 1}"
      ]
    },
    {
      "cell_type": "code",
      "execution_count": 8,
      "metadata": {
        "id": "MtKskTzbCLaU",
        "colab": {
          "base_uri": "https://localhost:8080/"
        },
        "outputId": "11715272-07c7-4e24-8323-614c0e0b4778"
      },
      "outputs": [
        {
          "output_type": "stream",
          "name": "stdout",
          "text": [
            "Enter a string: string is long\n",
            "Character counts:\n",
            "'s': 2\n",
            "'t': 1\n",
            "'r': 1\n",
            "'i': 2\n",
            "'n': 2\n",
            "'g': 2\n",
            "' ': 2\n",
            "'l': 1\n",
            "'o': 1\n"
          ]
        }
      ],
      "source": [
        "\n",
        "input_string = input(\"Enter a string: \")\n",
        "char_count = {}\n",
        "\n",
        "# Counting number of characters\n",
        "for char in input_string:\n",
        "    if char in char_count:\n",
        "        char_count[char] += 1\n",
        "    else:\n",
        "        char_count[char] = 1\n",
        "print(\"Character counts:\")\n",
        "for char, count in char_count.items():\n",
        "    print(f\"'{char}': {count}\")"
      ]
    },
    {
      "cell_type": "markdown",
      "metadata": {
        "id": "55W9AMdXCSpV"
      },
      "source": [
        "(5) Write a Python program to sum all the items in a list."
      ]
    },
    {
      "cell_type": "code",
      "execution_count": 9,
      "metadata": {
        "id": "I57NXsauCec2",
        "colab": {
          "base_uri": "https://localhost:8080/"
        },
        "outputId": "76f29e8b-f1c1-4e3a-d897-e33b2dbc5bc4"
      },
      "outputs": [
        {
          "output_type": "stream",
          "name": "stdout",
          "text": [
            "Enter a list of numbers separated by spaces: 12 13 14 15\n",
            "The sum of the numbers in the list is: 54\n"
          ]
        }
      ],
      "source": [
        "num_list = input(\"Enter a list of numbers separated by spaces: \").split()\n",
        "\n",
        "# Converting input strings to integers\n",
        "num_list = [int(num) for num in num_list]\n",
        "\n",
        "# Calculating sum of the numbers\n",
        "sum_of_numbers = sum(num_list)\n",
        "print(f\"The sum of the numbers in the list is: {sum_of_numbers}\")\n"
      ]
    },
    {
      "cell_type": "markdown",
      "metadata": {
        "id": "4ulBZ6yhCi9F"
      },
      "source": [
        "(6) Write a Python program to get a string from a given string where all occurrences of its first char have been changed to '\\$', except the first char itself.\n",
        "\n",
        "Sample String : 'restart‘,\n",
        "\n",
        "Expected Result : 'resta\\$t'"
      ]
    },
    {
      "cell_type": "code",
      "execution_count": 10,
      "metadata": {
        "id": "Fj0XhwbBCw2o",
        "colab": {
          "base_uri": "https://localhost:8080/"
        },
        "outputId": "58dafd0a-c139-4546-9a30-7666c2b414ad"
      },
      "outputs": [
        {
          "output_type": "stream",
          "name": "stdout",
          "text": [
            "Enter a string: string is long\n",
            "Modified string: string i$ long\n"
          ]
        }
      ],
      "source": [
        "\n",
        "input_string = input(\"Enter a string: \")\n",
        "\n",
        "first_char = input_string[0]\n",
        "\n",
        "# Replacing occurrences of the first character with '$'\n",
        "modified_string = first_char + input_string[1:].replace(first_char, '$')\n",
        "\n",
        "print(\"Modified string:\", modified_string)\n"
      ]
    },
    {
      "cell_type": "markdown",
      "source": [
        "(7) Create a program that calculates the factorial of a number using a while loop."
      ],
      "metadata": {
        "id": "qVXA3q7ET5JI"
      }
    },
    {
      "cell_type": "code",
      "source": [
        "\n",
        "num = int(input(\"Enter a number: \"))\n",
        "\n",
        "# Initializing variables\n",
        "factorial = 1\n",
        "counter = num\n",
        "\n",
        "# Calculating factorial using a while loop\n",
        "while counter > 0:\n",
        "    factorial *= counter\n",
        "    counter -= 1\n",
        "print(f\"The factorial of {num} is: {factorial}\")"
      ],
      "metadata": {
        "id": "Lbt7R6UkT7BA",
        "colab": {
          "base_uri": "https://localhost:8080/"
        },
        "outputId": "b6b0c323-5b5c-4ff3-8300-de3a2e79ed84"
      },
      "execution_count": 11,
      "outputs": [
        {
          "output_type": "stream",
          "name": "stdout",
          "text": [
            "Enter a number: 22\n",
            "The factorial of 22 is: 1124000727777607680000\n"
          ]
        }
      ]
    },
    {
      "cell_type": "markdown",
      "source": [
        "(8) Create a program that takes a list of numbers as input and outputs a new list with only the even numbers."
      ],
      "metadata": {
        "id": "6YfbzXMNT--R"
      }
    },
    {
      "cell_type": "code",
      "source": [
        "num_list = input(\"Enter a list of numbers separated by spaces: \").split()\n",
        "\n",
        "num_list = [int(num) for num in num_list]\n",
        "\n",
        "# Generating new list with even numbers\n",
        "even_numbers = [num for num in num_list if num % 2 == 0]\n",
        "\n",
        "print(\"List of even numbers:\", even_numbers)"
      ],
      "metadata": {
        "id": "54q7wMQPUAKu",
        "colab": {
          "base_uri": "https://localhost:8080/"
        },
        "outputId": "eed7dbe5-eb23-40be-c38f-0f2150b91c7d"
      },
      "execution_count": 12,
      "outputs": [
        {
          "output_type": "stream",
          "name": "stdout",
          "text": [
            "Enter a list of numbers separated by spaces: 11 12 13 14\n",
            "List of even numbers: [12, 14]\n"
          ]
        }
      ]
    },
    {
      "cell_type": "markdown",
      "metadata": {
        "id": "_bIP7s1MCzue"
      },
      "source": [
        "(9) Write a program with python which could accept two parameter a and b to calculate and output the result of S, where\n",
        "\n",
        "$\\ S=3.14*(1+a/b)^3$\n",
        "\n"
      ]
    },
    {
      "cell_type": "code",
      "execution_count": 13,
      "metadata": {
        "id": "w79QilHXD3Mg",
        "colab": {
          "base_uri": "https://localhost:8080/"
        },
        "outputId": "4d6ca9a2-de5e-44a9-e411-dd53d0b61bd9"
      },
      "outputs": [
        {
          "output_type": "stream",
          "name": "stdout",
          "text": [
            "Enter the value of 'a': 22\n",
            "Enter the value of 'b': 23\n",
            "The value of S is: 23.517095422043234\n"
          ]
        }
      ],
      "source": [
        "a = float(input(\"Enter the value of 'a': \"))\n",
        "b = float(input(\"Enter the value of 'b': \"))\n",
        "\n",
        "# Calculating value of S\n",
        "S = 3.14 * (1 + a / b) ** 3\n",
        "print(f\"The value of S is: {S}\")\n"
      ]
    },
    {
      "cell_type": "markdown",
      "metadata": {
        "id": "xCa2bK9aD4Q3"
      },
      "source": [
        "(10) Write a Python program to concatenate following dictionaries to create a new one.\n",
        "\n",
        "Sample Dictionary : dic1={1:10, 2:20}, dic2={3:30, 4:40}, dic3={5:50,6:60},\n",
        "\n",
        "Expected Result : {1: 10, 2: 20, 3: 30, 4: 40, 5: 50, 6: 60}\n"
      ]
    },
    {
      "cell_type": "code",
      "execution_count": 14,
      "metadata": {
        "id": "_z4aLqAbEET1",
        "colab": {
          "base_uri": "https://localhost:8080/"
        },
        "outputId": "62d5127e-7f60-499b-f8b6-329d5ee59951"
      },
      "outputs": [
        {
          "output_type": "stream",
          "name": "stdout",
          "text": [
            "Concatenated dictionary: {1: 10, 2: 20, 3: 30, 4: 40, 5: 50, 6: 60}\n"
          ]
        }
      ],
      "source": [
        "# Sample dictionaries\n",
        "dic1 = {1: 10, 2: 20}\n",
        "dic2 = {3: 30, 4: 40}\n",
        "dic3 = {5: 50, 6: 60}\n",
        "\n",
        "result_dict = {}\n",
        "result_dict.update(dic1)\n",
        "result_dict.update(dic2)\n",
        "result_dict.update(dic3)\n",
        "\n",
        "# Display the concatenated dictionary\n",
        "print(\"Concatenated dictionary:\", result_dict)"
      ]
    },
    {
      "cell_type": "markdown",
      "source": [
        "(11) Write a Python function that accepts a tuple of integers and returns the largest and smallest elements."
      ],
      "metadata": {
        "id": "bkyZ2xSZUOst"
      }
    },
    {
      "cell_type": "code",
      "source": [
        "def find_largest_smallest(numbers):\n",
        "    if not numbers:\n",
        "        return None, None  # Return None for both largest and smallest if the tuple is empty\n",
        "\n",
        "    smallest = largest = numbers[0]  # Initialize smallest and largest with the first element\n",
        "\n",
        "    for num in numbers:\n",
        "        if num < smallest:\n",
        "            smallest = num\n",
        "        elif num > largest:\n",
        "            largest = num\n",
        "\n",
        "    return smallest, largest\n",
        "input_tuple = tuple(map(int, input(\"Enter a tuple of integers separated by spaces: \").split()))\n",
        "smallest, largest = find_largest_smallest(input_tuple)\n",
        "print(f\"The smallest element is: {smallest}\")\n",
        "print(f\"The largest element is: {largest}\")"
      ],
      "metadata": {
        "id": "3FdLRBKOUQEd",
        "colab": {
          "base_uri": "https://localhost:8080/"
        },
        "outputId": "9189549f-4217-4c71-ec5e-2ce33dbfc745"
      },
      "execution_count": 15,
      "outputs": [
        {
          "output_type": "stream",
          "name": "stdout",
          "text": [
            "Enter a tuple of integers separated by spaces: 11 12 13\n",
            "The smallest element is: 11\n",
            "The largest element is: 13\n"
          ]
        }
      ]
    },
    {
      "cell_type": "markdown",
      "source": [
        "(12) Write a Python program that counts the frequency of each character in a given string and stores it in a dictionary."
      ],
      "metadata": {
        "id": "O0TVi3gKUTpp"
      }
    },
    {
      "cell_type": "code",
      "source": [
        "input_string = input(\"Enter a string: \")\n",
        "\n",
        "# Initializing empty dictionary to store character frequencies\n",
        "char_frequency = {}\n",
        "\n",
        "for char in input_string:\n",
        "    if char in char_frequency:\n",
        "        char_frequency[char] += 1\n",
        "    else:\n",
        "        char_frequency[char] = 1\n",
        "print(\"Character frequencies:\")\n",
        "for char, frequency in char_frequency.items():\n",
        "    print(f\"'{char}': {frequency}\")"
      ],
      "metadata": {
        "id": "lAtfSfZXUU-h",
        "colab": {
          "base_uri": "https://localhost:8080/"
        },
        "outputId": "f8234140-1a43-46fd-e1af-736f34c46b0d"
      },
      "execution_count": 16,
      "outputs": [
        {
          "output_type": "stream",
          "name": "stdout",
          "text": [
            "Enter a string: string is long\n",
            "Character frequencies:\n",
            "'s': 2\n",
            "'t': 1\n",
            "'r': 1\n",
            "'i': 2\n",
            "'n': 2\n",
            "'g': 2\n",
            "' ': 2\n",
            "'l': 1\n",
            "'o': 1\n"
          ]
        }
      ]
    },
    {
      "cell_type": "markdown",
      "metadata": {
        "id": "0v48Vqa7FrQh"
      },
      "source": [
        "(13) Write a Python program to check whether an element exists within a tuple."
      ]
    },
    {
      "cell_type": "code",
      "execution_count": 18,
      "metadata": {
        "id": "7WEmgq-DF2P1",
        "colab": {
          "base_uri": "https://localhost:8080/"
        },
        "outputId": "bc736ee8-bb5c-4a01-93f0-68af240aaaa4"
      },
      "outputs": [
        {
          "output_type": "stream",
          "name": "stdout",
          "text": [
            "Enter an element to check: 11 12 13\n",
            "Enter a tuple of elements separated by spaces: 12 14 15\n",
            "'11 12 13' does not exist in the tuple.\n"
          ]
        }
      ],
      "source": [
        "element_to_check = input(\"Enter an element to check: \")\n",
        "input_tuple = tuple(input(\"Enter a tuple of elements separated by spaces: \").split())\n",
        "\n",
        "if element_to_check in input_tuple:\n",
        "    print(f\"'{element_to_check}' exists in the tuple.\")\n",
        "else:\n",
        "    print(f\"'{element_to_check}' does not exist in the tuple.\")\n"
      ]
    },
    {
      "cell_type": "markdown",
      "metadata": {
        "id": "vD5PYLMuGga_"
      },
      "source": [
        "(14) Write a Python program to find maximum and the minimum value in a set."
      ]
    },
    {
      "cell_type": "code",
      "execution_count": 19,
      "metadata": {
        "id": "t0D5kdJUGjjw",
        "colab": {
          "base_uri": "https://localhost:8080/"
        },
        "outputId": "f3fc1e79-c4bc-477b-bc85-ba8d7e982ce8"
      },
      "outputs": [
        {
          "output_type": "stream",
          "name": "stdout",
          "text": [
            "Enter a set of integers separated by spaces: 1 11 111\n",
            "Maximum value in the set: 111\n",
            "Minimum value in the set: 1\n"
          ]
        }
      ],
      "source": [
        "input_set = set(map(int, input(\"Enter a set of integers separated by spaces: \").split()))\n",
        "\n",
        "if not input_set:\n",
        "    print(\"The set is empty.\")\n",
        "else:\n",
        "    # Finding maximum and minimum values\n",
        "    max_value = max(input_set)\n",
        "    min_value = min(input_set)\n",
        "    print(f\"Maximum value in the set: {max_value}\")\n",
        "    print(f\"Minimum value in the set: {min_value}\")"
      ]
    },
    {
      "cell_type": "markdown",
      "metadata": {
        "id": "uHkd-y5VhVWC"
      },
      "source": [
        "(15) Write a Python program to randomly divide the students in this class into six groups for term projects, each group should have at least 4 students but no more than 6 students (including 6). Here is the students list:\n",
        "student_list_fall_2023=['sb1826' ,\n",
        " 'lb0582' ,\n",
        " 'ab1820' ,\n",
        " 'sb1883' ,\n",
        " 'mb1296' ,\n",
        " 'sc1622' ,\n",
        " 'tc0469' ,\n",
        " 'ac1770' ,\n",
        " 'mc1453' ,\n",
        " 'ad1187' ,\n",
        " 'sd0926' ,\n",
        " 'sd1268' ,\n",
        " 'ag1609' ,\n",
        " 'sg1638' ,\n",
        " 'mg1299' ,\n",
        " 'vkk0022' ,\n",
        " 'bk0413' ,\n",
        " 'gk0257' ,\n",
        " 'am2807' ,\n",
        " 'gm0558' ,\n",
        " 'pm0658' ,\n",
        " 'am2346' ,\n",
        " 'rm1090' ,\n",
        " 'sm2364' ,\n",
        " 'sm2747' ,\n",
        " 'sm2343' ,\n",
        " 'vm0597' ,\n",
        " 'htn0086' ,\n",
        " 'sp2075' ,\n",
        " 'gp0306' ,\n",
        " 'lp0502' ,\n",
        " 'sr1508' ,\n",
        " 'vr0331' ,\n",
        " 'yr0180' ,\n",
        " 'as2819' ,\n",
        " 'ss2981' ,\n",
        " 'ns0756' ,\n",
        " 'mt0825' ,\n",
        " 'dt0463' ,\n",
        " 'su0137' ,\n",
        " 'dv0310'\n",
        "]"
      ]
    },
    {
      "cell_type": "code",
      "execution_count": 20,
      "metadata": {
        "id": "3iGbmcOBhTwy",
        "colab": {
          "base_uri": "https://localhost:8080/"
        },
        "outputId": "f7bf245e-7cc0-4ed9-a7d1-326492897a42"
      },
      "outputs": [
        {
          "output_type": "stream",
          "name": "stdout",
          "text": [
            "Group 1: lp0502, htn0086, pm0658, sm2747, mc1453, lb0582\n",
            "Group 2: ab1820, sm2364, ns0756, mg1299, ss2981, rm1090\n",
            "Group 3: am2346, ad1187, sp2075, sb1883, bk0413, vm0597\n",
            "Group 4: dt0463, ac1770, tc0469, dv0310, mb1296, sd0926\n",
            "Group 5: ag1609, sm2343, gp0306, sc1622, vkk0022, sg1638\n",
            "Group 6: sr1508, gm0558, sd1268, vr0331, gk0257, su0137\n",
            "Group 7: yr0180, as2819, sb1826, mt0825, am2807\n"
          ]
        }
      ],
      "source": [
        "import random\n",
        "\n",
        "# List of students\n",
        "student_list_fall_2023 = ['sb1826', 'lb0582', 'ab1820', 'sb1883', 'mb1296', 'sc1622', 'tc0469', 'ac1770', 'mc1453', 'ad1187', 'sd0926', 'sd1268', 'ag1609', 'sg1638', 'mg1299', 'vkk0022', 'bk0413', 'gk0257', 'am2807', 'gm0558', 'pm0658', 'am2346', 'rm1090', 'sm2364', 'sm2747', 'sm2343', 'vm0597', 'htn0086', 'sp2075', 'gp0306', 'lp0502', 'sr1508', 'vr0331', 'yr0180', 'as2819', 'ss2981', 'ns0756', 'mt0825', 'dt0463', 'su0137', 'dv0310']\n",
        "\n",
        "# Shuffling the student list\n",
        "random.shuffle(student_list_fall_2023)\n",
        "\n",
        "# Initializing variables\n",
        "group_count = 6\n",
        "min_students_per_group = 4\n",
        "max_students_per_group = 6\n",
        "# Dividing students into groups\n",
        "groups = [student_list_fall_2023[i:i + max_students_per_group] for i in range(0, len(student_list_fall_2023), max_students_per_group)]\n",
        "\n",
        "for i in range(group_count):\n",
        "    while len(groups[i]) < min_students_per_group:\n",
        "        if i == group_count - 1:\n",
        "            break\n",
        "        groups[i].append(groups[i + 1].pop(0))\n",
        "for i, group in enumerate(groups, start=1):\n",
        "    print(f\"Group {i}: {', '.join(group)}\")"
      ]
    },
    {
      "cell_type": "markdown",
      "metadata": {
        "id": "fmZ9vX20Qs3d"
      },
      "source": [
        "(16) Write a Python program to find the duplicate elements in a given array of integers. Return -1 If there are no such elements."
      ]
    },
    {
      "cell_type": "code",
      "execution_count": 22,
      "metadata": {
        "id": "W8Jw6sWMQs3d",
        "colab": {
          "base_uri": "https://localhost:8080/"
        },
        "outputId": "21cab171-bc2f-46f7-e919-c2c40a88dff4"
      },
      "outputs": [
        {
          "output_type": "stream",
          "name": "stdout",
          "text": [
            "Enter an array of integers separated by spaces: 1 11 11 12\n",
            "Duplicate elements: [11]\n"
          ]
        }
      ],
      "source": [
        "def find_duplicate_elements(arr):\n",
        "    duplicates = set()\n",
        "    unique_elements = set()\n",
        "\n",
        "    for num in arr:\n",
        "        if num in unique_elements:\n",
        "            duplicates.add(num)\n",
        "        else:\n",
        "            unique_elements.add(num)\n",
        "\n",
        "    return list(duplicates) if duplicates else -1\n",
        "input_array = list(map(int, input(\"Enter an array of integers separated by spaces: \").split()))\n",
        "\n",
        "duplicates = find_duplicate_elements(input_array)\n",
        "if duplicates == -1:\n",
        "    print(\"No duplicate elements found.\")\n",
        "else:\n",
        "    print(\"Duplicate elements:\", duplicates)"
      ]
    },
    {
      "cell_type": "markdown",
      "metadata": {
        "id": "hvq4APMhQs3d"
      },
      "source": [
        "(17) Write a Python program to select all the Sundays of a specified year."
      ]
    },
    {
      "cell_type": "code",
      "execution_count": 23,
      "metadata": {
        "id": "ZnoxhSglQs3d",
        "colab": {
          "base_uri": "https://localhost:8080/"
        },
        "outputId": "9785dfe8-320a-4fc6-c112-e01c7051ccef"
      },
      "outputs": [
        {
          "output_type": "stream",
          "name": "stdout",
          "text": [
            "Enter a year: 2000\n",
            "All Sundays of 2000:\n",
            "2000-01-02\n",
            "2000-01-09\n",
            "2000-01-16\n",
            "2000-01-23\n",
            "2000-01-30\n",
            "2000-02-06\n",
            "2000-02-13\n",
            "2000-02-20\n",
            "2000-02-27\n",
            "2000-03-05\n",
            "2000-03-12\n",
            "2000-03-19\n",
            "2000-03-26\n",
            "2000-04-02\n",
            "2000-04-09\n",
            "2000-04-16\n",
            "2000-04-23\n",
            "2000-04-30\n",
            "2000-05-07\n",
            "2000-05-14\n",
            "2000-05-21\n",
            "2000-05-28\n",
            "2000-06-04\n",
            "2000-06-11\n",
            "2000-06-18\n",
            "2000-06-25\n",
            "2000-07-02\n",
            "2000-07-09\n",
            "2000-07-16\n",
            "2000-07-23\n",
            "2000-07-30\n",
            "2000-08-06\n",
            "2000-08-13\n",
            "2000-08-20\n",
            "2000-08-27\n",
            "2000-09-03\n",
            "2000-09-10\n",
            "2000-09-17\n",
            "2000-09-24\n",
            "2000-10-01\n",
            "2000-10-08\n",
            "2000-10-15\n",
            "2000-10-22\n",
            "2000-10-29\n",
            "2000-11-05\n",
            "2000-11-12\n",
            "2000-11-19\n",
            "2000-11-26\n",
            "2000-12-03\n",
            "2000-12-10\n",
            "2000-12-17\n",
            "2000-12-24\n",
            "2000-12-31\n"
          ]
        }
      ],
      "source": [
        "import datetime\n",
        "\n",
        "def get_sundays(year):\n",
        "    sundays = []\n",
        "    for month in range(1, 13):\n",
        "        for day in range(1, 32):\n",
        "            try:\n",
        "                date = datetime.date(year, month, day)\n",
        "                if date.weekday() == 6:  # Sunday has weekday index 6\n",
        "                    sundays.append(date)\n",
        "            except ValueError:\n",
        "                pass\n",
        "    return sundays\n",
        "year = int(input(\"Enter a year: \"))\n",
        "\n",
        "sundays = get_sundays(year)\n",
        "if sundays:\n",
        "    print(f\"All Sundays of {year}:\")\n",
        "    for sunday in sundays:\n",
        "        print(sunday)\n",
        "else:\n",
        "    print(f\"No Sundays found in {year}.\")\n"
      ]
    },
    {
      "cell_type": "markdown",
      "source": [
        "(18) Build a program that calculates the factorial of a given positive integer. The factorial of a non-negative integer n is the product of all positive integers less than or equal to n."
      ],
      "metadata": {
        "id": "55FWoSJPVVM6"
      }
    },
    {
      "cell_type": "code",
      "source": [
        "def calculate_factorial(n):\n",
        "    if n == 0 or n == 1:\n",
        "        return 1\n",
        "    else:\n",
        "        return n * calculate_factorial(n - 1)\n",
        "\n",
        "n = int(input(\"Enter a positive integer: \"))\n",
        "\n",
        "if n < 0:\n",
        "    print(\"Factorial is not defined for negative numbers.\")\n",
        "else:\n",
        "    factorial = calculate_factorial(n)\n",
        "    print(f\"The factorial of {n} is: {factorial}\")"
      ],
      "metadata": {
        "id": "hwtr1wZmVX5A",
        "colab": {
          "base_uri": "https://localhost:8080/"
        },
        "outputId": "1daaf955-5ef4-4e3e-9d2f-f0a6df64ce1a"
      },
      "execution_count": 24,
      "outputs": [
        {
          "output_type": "stream",
          "name": "stdout",
          "text": [
            "Enter a positive integer: 22\n",
            "The factorial of 22 is: 1124000727777607680000\n"
          ]
        }
      ]
    },
    {
      "cell_type": "markdown",
      "source": [
        "(19) Write a program that takes a positive integer n as input and prints the count of even numbers from 1 to n. Use a loop to iterate through the numbers and utilize the break statement to optimize the loop."
      ],
      "metadata": {
        "id": "Q9ecagcaVazW"
      }
    },
    {
      "cell_type": "code",
      "source": [
        "n = int(input(\"Enter a positive integer: \"))\n",
        "\n",
        "if n <= 0:\n",
        "    print(\"Please enter a positive integer.\")\n",
        "else:\n",
        "    even_count = 0\n",
        "\n",
        "    for i in range(1, n + 1):\n",
        "        if i % 2 == 0:\n",
        "            even_count += 1\n",
        "        elif i > n / 2:\n",
        "            break\n",
        "\n",
        "    print(f\"The count of even numbers from 1 to {n} is: {even_count}\")"
      ],
      "metadata": {
        "id": "gycgckoAVZjR",
        "colab": {
          "base_uri": "https://localhost:8080/"
        },
        "outputId": "dbec0b11-3403-4e98-8984-99da7c2ddcbc"
      },
      "execution_count": 25,
      "outputs": [
        {
          "output_type": "stream",
          "name": "stdout",
          "text": [
            "Enter a positive integer: 22\n",
            "The count of even numbers from 1 to 22 is: 6\n"
          ]
        }
      ]
    },
    {
      "cell_type": "markdown",
      "source": [
        "(20) Write a Python function called count_vowels that takes a string as input and returns the count of vowels (both lowercase and uppercase) present in the string. Consider the vowels to be 'a', 'e', 'i', 'o', and 'u'. Ignore spaces and other non-alphabetic characters."
      ],
      "metadata": {
        "id": "cboAr5pEWUf5"
      }
    },
    {
      "cell_type": "code",
      "source": [
        "def count_vowels(input_string):\n",
        "    vowels = \"aeiouAEIOU\"\n",
        "    vowel_count = 0\n",
        "\n",
        "    for char in input_string:\n",
        "        if char in vowels:\n",
        "            vowel_count += 1\n",
        "\n",
        "    return vowel_count\n",
        "\n",
        "input_string = input(\"Enter a string: \")\n",
        "\n",
        "vowel_count = count_vowels(input_string)\n",
        "print(f\"The count of vowels in the string is: {vowel_count}\")"
      ],
      "metadata": {
        "id": "phs9gciMWWAW",
        "colab": {
          "base_uri": "https://localhost:8080/"
        },
        "outputId": "f1a6d8f4-b7b8-47b9-a39e-560d0420de2c"
      },
      "execution_count": 27,
      "outputs": [
        {
          "output_type": "stream",
          "name": "stdout",
          "text": [
            "Enter a string: string is long\n",
            "The count of vowels in the string is: 3\n"
          ]
        }
      ]
    }
  ],
  "metadata": {
    "colab": {
      "provenance": [],
      "include_colab_link": true
    },
    "kernelspec": {
      "display_name": "Python 3 (ipykernel)",
      "language": "python",
      "name": "python3"
    },
    "language_info": {
      "codemirror_mode": {
        "name": "ipython",
        "version": 3
      },
      "file_extension": ".py",
      "mimetype": "text/x-python",
      "name": "python",
      "nbconvert_exporter": "python",
      "pygments_lexer": "ipython3",
      "version": "3.9.12"
    }
  },
  "nbformat": 4,
  "nbformat_minor": 0
}